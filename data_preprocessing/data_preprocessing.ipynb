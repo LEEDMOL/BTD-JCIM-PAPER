{
 "cells": [
  {
   "cell_type": "code",
   "execution_count": 55,
   "metadata": {},
   "outputs": [],
   "source": [
    "from pandas import read_csv"
   ]
  },
  {
   "cell_type": "code",
   "execution_count": 56,
   "metadata": {},
   "outputs": [],
   "source": [
    "data = read_csv('../DATABASE/Data_Shiny_ETN.csv')"
   ]
  },
  {
   "cell_type": "code",
   "execution_count": 57,
   "metadata": {},
   "outputs": [
    {
     "data": {
      "text/html": [
       "<div>\n",
       "<style scoped>\n",
       "    .dataframe tbody tr th:only-of-type {\n",
       "        vertical-align: middle;\n",
       "    }\n",
       "\n",
       "    .dataframe tbody tr th {\n",
       "        vertical-align: top;\n",
       "    }\n",
       "\n",
       "    .dataframe thead th {\n",
       "        text-align: right;\n",
       "    }\n",
       "</style>\n",
       "<table border=\"1\" class=\"dataframe\">\n",
       "  <thead>\n",
       "    <tr style=\"text-align: right;\">\n",
       "      <th></th>\n",
       "      <th>molecule</th>\n",
       "      <th>smiles</th>\n",
       "      <th>max_abs</th>\n",
       "      <th>loge</th>\n",
       "      <th>max_em</th>\n",
       "      <th>stokes</th>\n",
       "      <th>yield</th>\n",
       "      <th>doi</th>\n",
       "      <th>solvent</th>\n",
       "      <th>dc</th>\n",
       "      <th>etn</th>\n",
       "    </tr>\n",
       "  </thead>\n",
       "  <tbody>\n",
       "    <tr>\n",
       "      <th>0</th>\n",
       "      <td>BTD-QN</td>\n",
       "      <td>c4cnc3c(Nc1cccc2nsnc12)cccc3c4</td>\n",
       "      <td>445.0</td>\n",
       "      <td>3.94</td>\n",
       "      <td>620.0</td>\n",
       "      <td>175.0</td>\n",
       "      <td>0.2</td>\n",
       "      <td>https://doi.org/10.1016/j.snb.2020.128998</td>\n",
       "      <td>DMSO</td>\n",
       "      <td>46.8260</td>\n",
       "      <td>0.444</td>\n",
       "    </tr>\n",
       "    <tr>\n",
       "      <th>1</th>\n",
       "      <td>BTD-QN</td>\n",
       "      <td>c4cnc3c(Nc1cccc2nsnc12)cccc3c4</td>\n",
       "      <td>445.0</td>\n",
       "      <td>2.93</td>\n",
       "      <td>565.0</td>\n",
       "      <td>120.0</td>\n",
       "      <td>0.08</td>\n",
       "      <td>https://doi.org/10.1016/j.snb.2020.128998</td>\n",
       "      <td>H2O</td>\n",
       "      <td>78.3553</td>\n",
       "      <td>1.000</td>\n",
       "    </tr>\n",
       "    <tr>\n",
       "      <th>2</th>\n",
       "      <td>BTD-QN</td>\n",
       "      <td>c4cnc3c(Nc1cccc2nsnc12)cccc3c4</td>\n",
       "      <td>440.0</td>\n",
       "      <td>3.84</td>\n",
       "      <td>575.0</td>\n",
       "      <td>135.0</td>\n",
       "      <td>0.16</td>\n",
       "      <td>https://doi.org/10.1016/j.snb.2020.128998</td>\n",
       "      <td>AcOEt</td>\n",
       "      <td>6.0200</td>\n",
       "      <td>0.228</td>\n",
       "    </tr>\n",
       "    <tr>\n",
       "      <th>3</th>\n",
       "      <td>BTD-QN</td>\n",
       "      <td>c4cnc3c(Nc1cccc2nsnc12)cccc3c4</td>\n",
       "      <td>450.0</td>\n",
       "      <td>3.98</td>\n",
       "      <td>615.0</td>\n",
       "      <td>165.0</td>\n",
       "      <td>0.23</td>\n",
       "      <td>https://doi.org/10.1016/j.snb.2020.128998</td>\n",
       "      <td>DCM</td>\n",
       "      <td>8.9300</td>\n",
       "      <td>0.309</td>\n",
       "    </tr>\n",
       "    <tr>\n",
       "      <th>4</th>\n",
       "      <td>BTD-QN</td>\n",
       "      <td>c4cnc3c(Nc1cccc2nsnc12)cccc3c4</td>\n",
       "      <td>440.0</td>\n",
       "      <td>3.79</td>\n",
       "      <td>615.0</td>\n",
       "      <td>175.0</td>\n",
       "      <td>0.04</td>\n",
       "      <td>https://doi.org/10.1016/j.snb.2020.128998</td>\n",
       "      <td>ACN</td>\n",
       "      <td>35.6880</td>\n",
       "      <td>0.460</td>\n",
       "    </tr>\n",
       "    <tr>\n",
       "      <th>...</th>\n",
       "      <td>...</td>\n",
       "      <td>...</td>\n",
       "      <td>...</td>\n",
       "      <td>...</td>\n",
       "      <td>...</td>\n",
       "      <td>...</td>\n",
       "      <td>...</td>\n",
       "      <td>...</td>\n",
       "      <td>...</td>\n",
       "      <td>...</td>\n",
       "      <td>...</td>\n",
       "    </tr>\n",
       "    <tr>\n",
       "      <th>953</th>\n",
       "      <td>Priscila-7</td>\n",
       "      <td>C(C#Cc1ccc(C#CCN(c2ccccc2)c3ccccc3)c4nsnc14)N5...</td>\n",
       "      <td>376.0</td>\n",
       "      <td>NaN</td>\n",
       "      <td>570.0</td>\n",
       "      <td>51.0</td>\n",
       "      <td>NaN</td>\n",
       "      <td>https://doi.org/10.1016/j.dyepig.2020.108668</td>\n",
       "      <td>DIOX</td>\n",
       "      <td>2.2500</td>\n",
       "      <td>0.164</td>\n",
       "    </tr>\n",
       "    <tr>\n",
       "      <th>954</th>\n",
       "      <td>Priscila-7</td>\n",
       "      <td>C(C#Cc1ccc(C#CCN(c2ccccc2)c3ccccc3)c4nsnc14)N5...</td>\n",
       "      <td>377.0</td>\n",
       "      <td>NaN</td>\n",
       "      <td>560.0</td>\n",
       "      <td>65.0</td>\n",
       "      <td>NaN</td>\n",
       "      <td>https://doi.org/10.1016/j.dyepig.2020.108668</td>\n",
       "      <td>DCM</td>\n",
       "      <td>8.9300</td>\n",
       "      <td>0.309</td>\n",
       "    </tr>\n",
       "    <tr>\n",
       "      <th>955</th>\n",
       "      <td>Priscila-7</td>\n",
       "      <td>C(C#Cc1ccc(C#CCN(c2ccccc2)c3ccccc3)c4nsnc14)N5...</td>\n",
       "      <td>375.0</td>\n",
       "      <td>NaN</td>\n",
       "      <td>550.0</td>\n",
       "      <td>65.0</td>\n",
       "      <td>NaN</td>\n",
       "      <td>https://doi.org/10.1016/j.dyepig.2020.108668</td>\n",
       "      <td>MeOH</td>\n",
       "      <td>32.6130</td>\n",
       "      <td>0.762</td>\n",
       "    </tr>\n",
       "    <tr>\n",
       "      <th>956</th>\n",
       "      <td>Priscila-7</td>\n",
       "      <td>C(C#Cc1ccc(C#CCN(c2ccccc2)c3ccccc3)c4nsnc14)N5...</td>\n",
       "      <td>374.0</td>\n",
       "      <td>NaN</td>\n",
       "      <td>NaN</td>\n",
       "      <td>76.0</td>\n",
       "      <td>NaN</td>\n",
       "      <td>https://doi.org/10.1016/j.dyepig.2020.108668</td>\n",
       "      <td>ACN</td>\n",
       "      <td>37.5000</td>\n",
       "      <td>0.460</td>\n",
       "    </tr>\n",
       "    <tr>\n",
       "      <th>957</th>\n",
       "      <td>Priscila-7</td>\n",
       "      <td>C(C#Cc1ccc(C#CCN(c2ccccc2)c3ccccc3)c4nsnc14)N5...</td>\n",
       "      <td>379.0</td>\n",
       "      <td>NaN</td>\n",
       "      <td>NaN</td>\n",
       "      <td>74.0</td>\n",
       "      <td>NaN</td>\n",
       "      <td>https://doi.org/10.1016/j.dyepig.2020.108668</td>\n",
       "      <td>DMSO</td>\n",
       "      <td>46.8260</td>\n",
       "      <td>0.444</td>\n",
       "    </tr>\n",
       "  </tbody>\n",
       "</table>\n",
       "<p>958 rows × 11 columns</p>\n",
       "</div>"
      ],
      "text/plain": [
       "       molecule                                             smiles  max_abs  \\\n",
       "0        BTD-QN                     c4cnc3c(Nc1cccc2nsnc12)cccc3c4    445.0   \n",
       "1        BTD-QN                     c4cnc3c(Nc1cccc2nsnc12)cccc3c4    445.0   \n",
       "2        BTD-QN                     c4cnc3c(Nc1cccc2nsnc12)cccc3c4    440.0   \n",
       "3        BTD-QN                     c4cnc3c(Nc1cccc2nsnc12)cccc3c4    450.0   \n",
       "4        BTD-QN                     c4cnc3c(Nc1cccc2nsnc12)cccc3c4    440.0   \n",
       "..          ...                                                ...      ...   \n",
       "953  Priscila-7  C(C#Cc1ccc(C#CCN(c2ccccc2)c3ccccc3)c4nsnc14)N5...    376.0   \n",
       "954  Priscila-7  C(C#Cc1ccc(C#CCN(c2ccccc2)c3ccccc3)c4nsnc14)N5...    377.0   \n",
       "955  Priscila-7  C(C#Cc1ccc(C#CCN(c2ccccc2)c3ccccc3)c4nsnc14)N5...    375.0   \n",
       "956  Priscila-7  C(C#Cc1ccc(C#CCN(c2ccccc2)c3ccccc3)c4nsnc14)N5...    374.0   \n",
       "957  Priscila-7  C(C#Cc1ccc(C#CCN(c2ccccc2)c3ccccc3)c4nsnc14)N5...    379.0   \n",
       "\n",
       "     loge  max_em  stokes yield                                           doi  \\\n",
       "0    3.94   620.0   175.0   0.2     https://doi.org/10.1016/j.snb.2020.128998   \n",
       "1    2.93   565.0   120.0  0.08     https://doi.org/10.1016/j.snb.2020.128998   \n",
       "2    3.84   575.0   135.0  0.16     https://doi.org/10.1016/j.snb.2020.128998   \n",
       "3    3.98   615.0   165.0  0.23     https://doi.org/10.1016/j.snb.2020.128998   \n",
       "4    3.79   615.0   175.0  0.04     https://doi.org/10.1016/j.snb.2020.128998   \n",
       "..    ...     ...     ...   ...                                           ...   \n",
       "953   NaN   570.0    51.0   NaN  https://doi.org/10.1016/j.dyepig.2020.108668   \n",
       "954   NaN   560.0    65.0   NaN  https://doi.org/10.1016/j.dyepig.2020.108668   \n",
       "955   NaN   550.0    65.0   NaN  https://doi.org/10.1016/j.dyepig.2020.108668   \n",
       "956   NaN     NaN    76.0   NaN  https://doi.org/10.1016/j.dyepig.2020.108668   \n",
       "957   NaN     NaN    74.0   NaN  https://doi.org/10.1016/j.dyepig.2020.108668   \n",
       "\n",
       "    solvent       dc    etn  \n",
       "0      DMSO  46.8260  0.444  \n",
       "1       H2O  78.3553  1.000  \n",
       "2     AcOEt   6.0200  0.228  \n",
       "3       DCM   8.9300  0.309  \n",
       "4       ACN  35.6880  0.460  \n",
       "..      ...      ...    ...  \n",
       "953    DIOX   2.2500  0.164  \n",
       "954     DCM   8.9300  0.309  \n",
       "955    MeOH  32.6130  0.762  \n",
       "956     ACN  37.5000  0.460  \n",
       "957    DMSO  46.8260  0.444  \n",
       "\n",
       "[958 rows x 11 columns]"
      ]
     },
     "execution_count": 57,
     "metadata": {},
     "output_type": "execute_result"
    }
   ],
   "source": [
    "data"
   ]
  },
  {
   "cell_type": "code",
   "execution_count": 58,
   "metadata": {},
   "outputs": [],
   "source": [
    "data = data.drop(columns=['yield','loge','doi','stokes'])"
   ]
  },
  {
   "cell_type": "code",
   "execution_count": 59,
   "metadata": {},
   "outputs": [],
   "source": [
    "missing_data = data[data['max_em'].isnull()]\n",
    "missing_data = missing_data[(missing_data.T!=0).all()]\n",
    "missing_data.to_csv('missing_data.csv',index=False)"
   ]
  },
  {
   "cell_type": "code",
   "execution_count": 60,
   "metadata": {},
   "outputs": [],
   "source": [
    "data = data.dropna()"
   ]
  },
  {
   "cell_type": "code",
   "execution_count": 61,
   "metadata": {},
   "outputs": [
    {
     "data": {
      "text/plain": [
       "molecule    0\n",
       "smiles      0\n",
       "max_abs     0\n",
       "max_em      0\n",
       "solvent     0\n",
       "dc          0\n",
       "etn         0\n",
       "dtype: int64"
      ]
     },
     "execution_count": 61,
     "metadata": {},
     "output_type": "execute_result"
    }
   ],
   "source": [
    "data.isnull().sum()"
   ]
  },
  {
   "cell_type": "code",
   "execution_count": 62,
   "metadata": {},
   "outputs": [
    {
     "data": {
      "text/plain": [
       "0"
      ]
     },
     "execution_count": 62,
     "metadata": {},
     "output_type": "execute_result"
    }
   ],
   "source": [
    "data.duplicated().sum()"
   ]
  },
  {
   "cell_type": "code",
   "execution_count": 63,
   "metadata": {},
   "outputs": [],
   "source": [
    "#drop rows that have any value equal to 0\n",
    "data = data[(data.T != 0).all()]"
   ]
  },
  {
   "cell_type": "code",
   "execution_count": 64,
   "metadata": {},
   "outputs": [],
   "source": [
    "data.to_csv('Data_Shiny_ETN_cleaned.csv',index=False)"
   ]
  }
 ],
 "metadata": {
  "kernelspec": {
   "display_name": "Python 3",
   "language": "python",
   "name": "python3"
  },
  "language_info": {
   "codemirror_mode": {
    "name": "ipython",
    "version": 3
   },
   "file_extension": ".py",
   "mimetype": "text/x-python",
   "name": "python",
   "nbconvert_exporter": "python",
   "pygments_lexer": "ipython3",
   "version": "3.10.12"
  }
 },
 "nbformat": 4,
 "nbformat_minor": 2
}
